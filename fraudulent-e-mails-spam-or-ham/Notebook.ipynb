{
 "cells": [
  {
   "cell_type": "markdown",
   "metadata": {},
   "source": [
    "<p> The goal of this first line is to check that everything works and take a look at the train data </p>"
   ]
  },
  {
   "cell_type": "code",
   "execution_count": 25,
   "metadata": {},
   "outputs": [
    {
     "name": "stdout",
     "output_type": "stream",
     "text": [
      "Training data shape:  (5964, 2)\n",
      "Test data shape:  (5964, 1)\n",
      "                                                text  label\n",
      "0  DEAR SIR, STRICTLY A PRIVATE BUSINESS PROPOSAL...      1\n",
      "1                                           Will do.      0\n",
      "2  Nora--Cheryl has emailed dozens of memos about...      0\n",
      "3  Dear Sir=2FMadam=2C I know that this proposal ...      1\n",
      "4                                                fyi      0 \n",
      "\n",
      "                                                text\n",
      "0  usiness is for the fact that the deceased man ...\n",
      "1  They are happy to adjust to the afternoon. I a...\n",
      "2  Lael Brainard was confirmed 78-19 this afterno...\n",
      "3  H <hrod17@clintonemail.com>Friday March 26 201...\n",
      "4  n;\"> Dear Good Friend,<br><br><br>I am happy t...\n"
     ]
    }
   ],
   "source": [
    "import pandas as pd\n",
    "\n",
    "train_data = pd.read_csv(\"kg_train.csv/kg_train.csv\",encoding='latin-1')\n",
    "test_data = pd.read_csv(\"kg_test.csv/kg_test.csv\", encoding ='latin-1')\n",
    "\n",
    "print(\"Training data shape: \", train_data.shape)\n",
    "print(\"Test data shape: \",test_data.shape)\n",
    "print(train_data.head(), \"\\n\")\n",
    "print(test_data.head())"
   ]
  },
  {
   "cell_type": "markdown",
   "metadata": {},
   "source": [
    "<p> Let us start with the pre-processing </p>"
   ]
  },
  {
   "cell_type": "code",
   "execution_count": 26,
   "metadata": {},
   "outputs": [
    {
     "name": "stdout",
     "output_type": "stream",
     "text": [
      "!\"#$%&'()*+,-./:;<=>?@[\\]^_`{|}~\n",
      "['here', 'there', 'when', 'where', 'why', 'how', 'all', 'any', 'both', 'each']\n"
     ]
    }
   ],
   "source": [
    "import string\n",
    "from nltk.corpus import stopwords\n",
    "print(string.punctuation)\n",
    "print(stopwords.words(\"english\")[100:110])\n",
    "from nltk.stem.snowball import SnowballStemmer"
   ]
  },
  {
   "cell_type": "code",
   "execution_count": 27,
   "metadata": {},
   "outputs": [],
   "source": [
    "import re\n",
    "def clean_text(text):\n",
    "    \n",
    "    # Remove all the special characters\n",
    "    processed_feature = re.sub(r'\\W', ' ', str(text))\n",
    "\n",
    "    # remove all single characters\n",
    "    processed_feature= re.sub(r'\\s+[a-zA-Z]\\s+', ' ', processed_feature)\n",
    "\n",
    "    # Remove single characters from the start\n",
    "    processed_feature = re.sub(r'\\^[a-zA-Z]\\s+', ' ', processed_feature) \n",
    "\n",
    "    # Substituting multiple spaces with single space\n",
    "    processed_feature = re.sub(r'\\s+', ' ', processed_feature, flags=re.I)\n",
    "\n",
    "    # Removing prefixed 'b'\n",
    "    processed_feature = re.sub(r'^b\\s+', '', processed_feature)\n",
    "\n",
    "    # Converting to Lowercase\n",
    "    processed_feature = processed_feature.lower()\n",
    "\n",
    "    return processed_feature"
   ]
  },
  {
   "cell_type": "markdown",
   "metadata": {},
   "source": [
    "<p> We might have to improve the code above, as it might be cleaning more than it needs to, but I don't think so.  </p>"
   ]
  },
  {
   "cell_type": "code",
   "execution_count": 28,
   "metadata": {},
   "outputs": [],
   "source": [
    "train_data.loc[:,'preprocessed_text'] = train_data['text'].apply(clean_text)\n",
    "train_data.loc[:,'preprocessed_text'] = train_data['text'].apply(clean_text)"
   ]
  },
  {
   "cell_type": "code",
   "execution_count": 29,
   "metadata": {},
   "outputs": [
    {
     "data": {
      "text/html": [
       "<div>\n",
       "<style scoped>\n",
       "    .dataframe tbody tr th:only-of-type {\n",
       "        vertical-align: middle;\n",
       "    }\n",
       "\n",
       "    .dataframe tbody tr th {\n",
       "        vertical-align: top;\n",
       "    }\n",
       "\n",
       "    .dataframe thead th {\n",
       "        text-align: right;\n",
       "    }\n",
       "</style>\n",
       "<table border=\"1\" class=\"dataframe\">\n",
       "  <thead>\n",
       "    <tr style=\"text-align: right;\">\n",
       "      <th></th>\n",
       "      <th>text</th>\n",
       "      <th>label</th>\n",
       "      <th>preprocessed_text</th>\n",
       "    </tr>\n",
       "  </thead>\n",
       "  <tbody>\n",
       "    <tr>\n",
       "      <th>0</th>\n",
       "      <td>DEAR SIR, STRICTLY A PRIVATE BUSINESS PROPOSAL...</td>\n",
       "      <td>1</td>\n",
       "      <td>dear sir strictly private business proposal am...</td>\n",
       "    </tr>\n",
       "    <tr>\n",
       "      <th>1</th>\n",
       "      <td>Will do.</td>\n",
       "      <td>0</td>\n",
       "      <td>will do</td>\n",
       "    </tr>\n",
       "    <tr>\n",
       "      <th>2</th>\n",
       "      <td>Nora--Cheryl has emailed dozens of memos about...</td>\n",
       "      <td>0</td>\n",
       "      <td>nora cheryl has emailed dozens of memos about ...</td>\n",
       "    </tr>\n",
       "    <tr>\n",
       "      <th>3</th>\n",
       "      <td>Dear Sir=2FMadam=2C I know that this proposal ...</td>\n",
       "      <td>1</td>\n",
       "      <td>dear sir 2fmadam 2c know that this proposal mi...</td>\n",
       "    </tr>\n",
       "    <tr>\n",
       "      <th>4</th>\n",
       "      <td>fyi</td>\n",
       "      <td>0</td>\n",
       "      <td>fyi</td>\n",
       "    </tr>\n",
       "    <tr>\n",
       "      <th>5</th>\n",
       "      <td>sure -- bottom line - you need a special secur...</td>\n",
       "      <td>0</td>\n",
       "      <td>sure bottom line you need special security cod...</td>\n",
       "    </tr>\n",
       "    <tr>\n",
       "      <th>6</th>\n",
       "      <td>Dear Sir,I am Engr. Ugo Nzego with the Enginee...</td>\n",
       "      <td>1</td>\n",
       "      <td>dear sir am engr ugo nzego with the engineerin...</td>\n",
       "    </tr>\n",
       "    <tr>\n",
       "      <th>7</th>\n",
       "      <td>Abedin Huma &lt;AbedinH@state.gov&gt;Saturday Novemb...</td>\n",
       "      <td>0</td>\n",
       "      <td>abedin huma abedinh state gov saturday novembe...</td>\n",
       "    </tr>\n",
       "    <tr>\n",
       "      <th>8</th>\n",
       "      <td>There is an Oct 16th George Marshall event at ...</td>\n",
       "      <td>0</td>\n",
       "      <td>there is an oct 16th george marshall event at ...</td>\n",
       "    </tr>\n",
       "    <tr>\n",
       "      <th>9</th>\n",
       "      <td>&lt;P&gt;1 25% for you as the account owner &lt;BR&gt;2 65...</td>\n",
       "      <td>1</td>\n",
       "      <td>1 25 for you as the account owner br 2 65 for...</td>\n",
       "    </tr>\n",
       "    <tr>\n",
       "      <th>10</th>\n",
       "      <td>STRONG&gt;&lt;A href=3D\"http://www.cnn.com/2003/WORL...</td>\n",
       "      <td>1</td>\n",
       "      <td>strong href 3d http www cnn com 2003 world afr...</td>\n",
       "    </tr>\n",
       "    <tr>\n",
       "      <th>11</th>\n",
       "      <td>Dear Friend,My name is Edward Moore QC.Princip...</td>\n",
       "      <td>1</td>\n",
       "      <td>dear friend my name is edward moore qc princip...</td>\n",
       "    </tr>\n",
       "    <tr>\n",
       "      <th>12</th>\n",
       "      <td>Compliment, How are you doing today, Hope you ...</td>\n",
       "      <td>1</td>\n",
       "      <td>compliment how are you doing today hope you ha...</td>\n",
       "    </tr>\n",
       "    <tr>\n",
       "      <th>13</th>\n",
       "      <td>Who wrote it?</td>\n",
       "      <td>0</td>\n",
       "      <td>who wrote it</td>\n",
       "    </tr>\n",
       "    <tr>\n",
       "      <th>14</th>\n",
       "      <td>accident. &lt;BR&gt;&amp;nbsp;&lt;BR&gt;On further investigat...</td>\n",
       "      <td>1</td>\n",
       "      <td>accident br nbsp br on further investigation ...</td>\n",
       "    </tr>\n",
       "    <tr>\n",
       "      <th>15</th>\n",
       "      <td>Email from EricBackground for you</td>\n",
       "      <td>0</td>\n",
       "      <td>email from ericbackground for you</td>\n",
       "    </tr>\n",
       "    <tr>\n",
       "      <th>16</th>\n",
       "      <td>...</td>\n",
       "      <td>1</td>\n",
       "      <td>from desk of the chairman award oil committee...</td>\n",
       "    </tr>\n",
       "    <tr>\n",
       "      <th>17</th>\n",
       "      <td>(\"REMITTANCE OF $15 M...</td>\n",
       "      <td>1</td>\n",
       "      <td>remittance of 15 million s dollars confidenti...</td>\n",
       "    </tr>\n",
       "    <tr>\n",
       "      <th>18</th>\n",
       "      <td>Abidjan Cote D'Ivoire=20Dear,=20It is my pleas...</td>\n",
       "      <td>1</td>\n",
       "      <td>abidjan cote ivoire 20dear 20it is my pleasure...</td>\n",
       "    </tr>\n",
       "    <tr>\n",
       "      <th>19</th>\n",
       "      <td>&lt;DIV&gt;&lt;BR&gt;&lt;STRONG&gt;I am Hon. Mr. Hope Sithole on...</td>\n",
       "      <td>1</td>\n",
       "      <td>div br strong am hon mr hope sithole one of t...</td>\n",
       "    </tr>\n",
       "  </tbody>\n",
       "</table>\n",
       "</div>"
      ],
      "text/plain": [
       "                                                 text  label  \\\n",
       "0   DEAR SIR, STRICTLY A PRIVATE BUSINESS PROPOSAL...      1   \n",
       "1                                            Will do.      0   \n",
       "2   Nora--Cheryl has emailed dozens of memos about...      0   \n",
       "3   Dear Sir=2FMadam=2C I know that this proposal ...      1   \n",
       "4                                                 fyi      0   \n",
       "5   sure -- bottom line - you need a special secur...      0   \n",
       "6   Dear Sir,I am Engr. Ugo Nzego with the Enginee...      1   \n",
       "7   Abedin Huma <AbedinH@state.gov>Saturday Novemb...      0   \n",
       "8   There is an Oct 16th George Marshall event at ...      0   \n",
       "9   <P>1 25% for you as the account owner <BR>2 65...      1   \n",
       "10  STRONG><A href=3D\"http://www.cnn.com/2003/WORL...      1   \n",
       "11  Dear Friend,My name is Edward Moore QC.Princip...      1   \n",
       "12  Compliment, How are you doing today, Hope you ...      1   \n",
       "13                                      Who wrote it?      0   \n",
       "14   accident. <BR>&nbsp;<BR>On further investigat...      1   \n",
       "15                  Email from EricBackground for you      0   \n",
       "16                                                ...      1   \n",
       "17                           (\"REMITTANCE OF $15 M...      1   \n",
       "18  Abidjan Cote D'Ivoire=20Dear,=20It is my pleas...      1   \n",
       "19  <DIV><BR><STRONG>I am Hon. Mr. Hope Sithole on...      1   \n",
       "\n",
       "                                    preprocessed_text  \n",
       "0   dear sir strictly private business proposal am...  \n",
       "1                                            will do   \n",
       "2   nora cheryl has emailed dozens of memos about ...  \n",
       "3   dear sir 2fmadam 2c know that this proposal mi...  \n",
       "4                                                 fyi  \n",
       "5   sure bottom line you need special security cod...  \n",
       "6   dear sir am engr ugo nzego with the engineerin...  \n",
       "7   abedin huma abedinh state gov saturday novembe...  \n",
       "8   there is an oct 16th george marshall event at ...  \n",
       "9    1 25 for you as the account owner br 2 65 for...  \n",
       "10  strong href 3d http www cnn com 2003 world afr...  \n",
       "11  dear friend my name is edward moore qc princip...  \n",
       "12  compliment how are you doing today hope you ha...  \n",
       "13                                      who wrote it   \n",
       "14   accident br nbsp br on further investigation ...  \n",
       "15                  email from ericbackground for you  \n",
       "16   from desk of the chairman award oil committee...  \n",
       "17   remittance of 15 million s dollars confidenti...  \n",
       "18  abidjan cote ivoire 20dear 20it is my pleasure...  \n",
       "19   div br strong am hon mr hope sithole one of t...  "
      ]
     },
     "execution_count": 29,
     "metadata": {},
     "output_type": "execute_result"
    }
   ],
   "source": [
    "train_data.head(20)"
   ]
  },
  {
   "cell_type": "markdown",
   "metadata": {},
   "source": []
  },
  {
   "cell_type": "code",
   "execution_count": 30,
   "metadata": {},
   "outputs": [],
   "source": [
    "from collections import Counter\n",
    "\n",
    "data_ham  = train_data[train_data['label'] == 0].copy() #This saves the messages that are HAM\n",
    "data_spam = train_data[train_data['label'] == 1].copy() #This saves the messages that are SPAM\n",
    "\n",
    "words_data_ham  = data_ham['preprocessed_text'] #Series containing the strings that are HAM\n",
    "words_data_spam = data_spam['preprocessed_text'] #Series containing the strings that are SPAM\n",
    "\n",
    "\n",
    "list_ham_words = [] #Split all strings in words_data_ham and save them in word-vectors\n",
    "for sublist in words_data_ham:\n",
    "    for item in sublist.split():\n",
    "        list_ham_words.append(item)\n",
    "\n",
    "list_spam_words = [] #Split all strings in words_data_spam and save them in word-vectors\n",
    "for sublist in words_data_spam:\n",
    "    for item in sublist.split():\n",
    "        list_spam_words.append(item)\n",
    "        \n",
    "c_ham  = Counter(list_ham_words)\n",
    "c_spam = Counter(list_spam_words)\n",
    "\n",
    "df_hamwords_top10  = pd.DataFrame(c_ham.most_common(10),  columns=['word', 'count']) #save the top10 most common words in list_ham_words\n",
    "df_spamwords_top10 = pd.DataFrame(c_spam.most_common(10), columns=['word', 'count']) #save the top10 most common words in list_spam_words"
   ]
  },
  {
   "cell_type": "markdown",
   "metadata": {},
   "source": [
    "<p> From now on, we can't change the code </p>"
   ]
  },
  {
   "cell_type": "code",
   "execution_count": 39,
   "metadata": {},
   "outputs": [
    {
     "name": "stdout",
     "output_type": "stream",
     "text": [
      "(4174, 65759)\n",
      "(1790, 65759)\n",
      "0.9597765363128492\n"
     ]
    },
    {
     "data": {
      "text/plain": [
       "array([[946,  58],\n",
       "       [ 14, 772]])"
      ]
     },
     "execution_count": 39,
     "metadata": {},
     "output_type": "execute_result"
    }
   ],
   "source": [
    "from sklearn.naive_bayes import MultinomialNB\n",
    "from sklearn.metrics import classification_report, confusion_matrix, accuracy_score\n",
    "from sklearn.feature_extraction.text import CountVectorizer\n",
    "from sklearn.model_selection import train_test_split\n",
    "\n",
    "data_train, data_val, label_train, label_val = train_test_split(train_data, train_data[\"label\"], test_size=0.3, random_state=5)\n",
    "\n",
    "bow_transformer = CountVectorizer().fit(data_train['preprocessed_text'])\n",
    "\n",
    "X_train = bow_transformer.transform(data_train['preprocessed_text'])\n",
    "X_val  = bow_transformer.transform(data_val['preprocessed_text'])\n",
    "\n",
    "print(X_train.shape)\n",
    "print(X_val.shape)\n",
    "\n",
    "#Learn Classifier\n",
    "clf = MultinomialNB().fit(X_train, label_train)\n",
    "#Predict Val data\n",
    "pred_val = clf.predict(X_val)\n",
    "\n",
    "accuracy = accuracy_score(label_val, pred_val)\n",
    "print(accuracy)\n",
    "confusion_matrix(label_val, pred_val)"
   ]
  },
  {
   "cell_type": "code",
   "execution_count": 46,
   "metadata": {},
   "outputs": [],
   "source": [
    "data_test = pd.read_csv(\"kg_test.csv/kg_test.csv\",encoding='latin-1')\n",
    "X_test = bow_transformer.transform(data_test['text'].apply(clean_text))\n",
    "pred_text = clf.predict(X_test)\n",
    "submission_file = pd.DataFrame({'Id': test_data.index,'Category':pred_text})\n",
    "submission_file.to_csv('to_submit.csv',index=False)"
   ]
  }
 ],
 "metadata": {
  "kernelspec": {
   "display_name": "Python 3",
   "language": "python",
   "name": "python3"
  },
  "language_info": {
   "codemirror_mode": {
    "name": "ipython",
    "version": 3
   },
   "file_extension": ".py",
   "mimetype": "text/x-python",
   "name": "python",
   "nbconvert_exporter": "python",
   "pygments_lexer": "ipython3",
   "version": "3.8.3"
  }
 },
 "nbformat": 4,
 "nbformat_minor": 4
}
